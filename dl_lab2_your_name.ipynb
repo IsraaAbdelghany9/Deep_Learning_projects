{
  "cells": [
    {
      "cell_type": "markdown",
      "source": [
        "$$ ITI \\space AI-Pro: \\space Intake \\space 45 $$\n",
        "$$ Deep \\space Learning $$\n",
        "$$ Lab \\space no. \\space 2 $$"
      ],
      "metadata": {
        "id": "Xba-oy4zCeri"
      },
      "id": "Xba-oy4zCeri"
    },
    {
      "cell_type": "markdown",
      "id": "b177f870",
      "metadata": {
        "id": "b177f870"
      },
      "source": [
        "# Introduction\n",
        "\n",
        "> Use the `keras` from Tensorflow to build ANN model that would fit the credit score data and be able to generalize well.\n",
        "\n",
        "Use the Credit Score Classification dataset provided [here](https://www.kaggle.com/datasets/parisrohan/credit-score-classification) to train and test your design.\n",
        "\n",
        "**Notes:**\n",
        "- Split the data as you see fit and use validation during training.\n",
        "- You may re-use the EDA, data preparation, and other sections you previously used in ML1 assignemnts.\n",
        "- Remember that you can use classification metrics from other libraries as well (e.g., `sklearn`)\n",
        "- Plot the loss, and accuracy against epochs and extract insights on how well of a fit your model is.\n",
        "- This time the notebook is not prepared with sections and instructions so that you can do it yourself.\n",
        "- If you are stuck, you can consult the [Keras User Guide](https://keras.io/api/). There are some useful [Code Examples](https://keras.io/examples/) as well.\n"
      ]
    },
    {
      "cell_type": "code",
      "source": [],
      "metadata": {
        "id": "79ulMqI53XnF"
      },
      "id": "79ulMqI53XnF",
      "execution_count": null,
      "outputs": []
    },
    {
      "cell_type": "markdown",
      "id": "7ff5f5dc",
      "metadata": {
        "id": "7ff5f5dc"
      },
      "source": [
        "----------------------------------------------\n",
        "\n",
        "$$ Wish \\space you \\space all \\space the \\space best \\space ♡ $$\n",
        "$$ Abdelrahman \\space Eid $$"
      ]
    }
  ],
  "metadata": {
    "colab": {
      "provenance": []
    },
    "kernelspec": {
      "display_name": "Python 3",
      "language": "python",
      "name": "python3"
    },
    "language_info": {
      "codemirror_mode": {
        "name": "ipython",
        "version": 3
      },
      "file_extension": ".py",
      "mimetype": "text/x-python",
      "name": "python",
      "nbconvert_exporter": "python",
      "pygments_lexer": "ipython3",
      "version": "3.8.8"
    }
  },
  "nbformat": 4,
  "nbformat_minor": 5
}